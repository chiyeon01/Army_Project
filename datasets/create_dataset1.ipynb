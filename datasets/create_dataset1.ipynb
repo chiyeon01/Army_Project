{
  "nbformat": 4,
  "nbformat_minor": 0,
  "metadata": {
    "colab": {
      "provenance": [],
      "authorship_tag": "ABX9TyMmKdZpEApxqVLmDPvqWAuk",
      "include_colab_link": true
    },
    "kernelspec": {
      "name": "python3",
      "display_name": "Python 3"
    },
    "language_info": {
      "name": "python"
    }
  },
  "cells": [
    {
      "cell_type": "markdown",
      "metadata": {
        "id": "view-in-github",
        "colab_type": "text"
      },
      "source": [
        "<a href=\"https://colab.research.google.com/github/chiyeon01/Army_Project/blob/main/datasets/create_dataset1.ipynb\" target=\"_parent\"><img src=\"https://colab.research.google.com/assets/colab-badge.svg\" alt=\"Open In Colab\"/></a>"
      ]
    },
    {
      "cell_type": "markdown",
      "source": [
        "# Video에서 Image annotation create"
      ],
      "metadata": {
        "id": "3CX_iBk-7i1j"
      }
    },
    {
      "cell_type": "code",
      "source": [
        "from google.colab import drive\n",
        "\n",
        "drive.mount('/content/gdrive')"
      ],
      "metadata": {
        "colab": {
          "base_uri": "https://localhost:8080/"
        },
        "id": "vG5FDdYb2k18",
        "outputId": "d388dbb2-a5a3-437d-9bfa-c4a9c2cac404"
      },
      "execution_count": null,
      "outputs": [
        {
          "output_type": "stream",
          "name": "stdout",
          "text": [
            "Mounted at /content/gdrive\n"
          ]
        }
      ]
    },
    {
      "cell_type": "code",
      "source": [
        "import cv2\n",
        "\n",
        "cap = cv2.VideoCapture('/content/gdrive/MyDrive/Colab Notebooks/zz.ML Dataset/Army_project/army_test_video.mov')\n",
        "cnt = 0\n",
        "\n",
        "while True:\n",
        "    HasFrame, frame = cap.read()\n",
        "\n",
        "    if not HasFrame:\n",
        "        break\n",
        "\n",
        "    cv2.imwrite('/content/gdrive/MyDrive/Colab Notebooks/zz.ML Dataset/Army_project/army_dataset/{0}.jpg'.format(cnt), frame)\n",
        "\n",
        "    cnt += 1"
      ],
      "metadata": {
        "id": "hPn6t8HoFU6j"
      },
      "execution_count": null,
      "outputs": []
    },
    {
      "cell_type": "code",
      "source": [],
      "metadata": {
        "id": "GpHcTZR40-Ct"
      },
      "execution_count": null,
      "outputs": []
    }
  ]
}